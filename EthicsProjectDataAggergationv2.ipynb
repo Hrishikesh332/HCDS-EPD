{
  "cells": [
    {
      "cell_type": "markdown",
      "metadata": {
        "id": "nHhxpa262XuU"
      },
      "source": [
        "# DATA Acquisition for EPD - filtering and aggregation"
      ]
    },
    {
      "cell_type": "code",
      "execution_count": 1,
      "metadata": {
        "id": "8-eKmEHMMfRr"
      },
      "outputs": [],
      "source": [
        "import pandas as pd\n",
        "import matplotlib.pyplot as plt\n",
        "import json"
      ]
    },
    {
      "cell_type": "code",
      "execution_count": 12,
      "metadata": {
        "colab": {
          "base_uri": "https://localhost:8080/"
        },
        "id": "mKC5mDupL5HC",
        "outputId": "a1aa4e8f-3268-45e3-9c3f-c1f2f56cb89d"
      },
      "outputs": [
        {
          "name": "stdout",
          "output_type": "stream",
          "text": [
            "Processing EPD_201501...\n"
          ]
        },
        {
          "name": "stderr",
          "output_type": "stream",
          "text": [
            "                                   \r"
          ]
        },
        {
          "name": "stdout",
          "output_type": "stream",
          "text": [
            "Processing EPD_201502...\n"
          ]
        },
        {
          "name": "stderr",
          "output_type": "stream",
          "text": [
            "                                   \r"
          ]
        },
        {
          "name": "stdout",
          "output_type": "stream",
          "text": [
            "Processing EPD_201503...\n"
          ]
        },
        {
          "name": "stderr",
          "output_type": "stream",
          "text": [
            "                                   \r"
          ]
        },
        {
          "name": "stdout",
          "output_type": "stream",
          "text": [
            "Processing EPD_201504...\n"
          ]
        },
        {
          "name": "stderr",
          "output_type": "stream",
          "text": [
            "                                   \r"
          ]
        },
        {
          "name": "stdout",
          "output_type": "stream",
          "text": [
            "Processing EPD_201505...\n"
          ]
        },
        {
          "name": "stderr",
          "output_type": "stream",
          "text": [
            "                                   \r"
          ]
        },
        {
          "name": "stdout",
          "output_type": "stream",
          "text": [
            "Processing EPD_201506...\n"
          ]
        },
        {
          "name": "stderr",
          "output_type": "stream",
          "text": [
            "                                   \r"
          ]
        },
        {
          "name": "stdout",
          "output_type": "stream",
          "text": [
            "Processing EPD_201507...\n"
          ]
        },
        {
          "name": "stderr",
          "output_type": "stream",
          "text": [
            "                                   \r"
          ]
        },
        {
          "name": "stdout",
          "output_type": "stream",
          "text": [
            "Processing EPD_201508...\n"
          ]
        },
        {
          "name": "stderr",
          "output_type": "stream",
          "text": [
            "                                   \r"
          ]
        },
        {
          "name": "stdout",
          "output_type": "stream",
          "text": [
            "Processing EPD_201509...\n"
          ]
        },
        {
          "name": "stderr",
          "output_type": "stream",
          "text": [
            "                                   \r"
          ]
        },
        {
          "name": "stdout",
          "output_type": "stream",
          "text": [
            "Processing EPD_201510...\n"
          ]
        },
        {
          "name": "stderr",
          "output_type": "stream",
          "text": [
            "                                   \r"
          ]
        },
        {
          "name": "stdout",
          "output_type": "stream",
          "text": [
            "Processing EPD_201511...\n"
          ]
        },
        {
          "name": "stderr",
          "output_type": "stream",
          "text": [
            "                                   \r"
          ]
        },
        {
          "name": "stdout",
          "output_type": "stream",
          "text": [
            "Processing EPD_201512...\n"
          ]
        },
        {
          "name": "stderr",
          "output_type": "stream",
          "text": [
            "                                   \r"
          ]
        },
        {
          "name": "stdout",
          "output_type": "stream",
          "text": [
            "Processing EPD_201601...\n"
          ]
        },
        {
          "name": "stderr",
          "output_type": "stream",
          "text": [
            "                                   \r"
          ]
        },
        {
          "name": "stdout",
          "output_type": "stream",
          "text": [
            "Processing EPD_201602...\n"
          ]
        },
        {
          "name": "stderr",
          "output_type": "stream",
          "text": [
            "                                   \r"
          ]
        },
        {
          "name": "stdout",
          "output_type": "stream",
          "text": [
            "Processing EPD_201603...\n"
          ]
        },
        {
          "name": "stderr",
          "output_type": "stream",
          "text": [
            "                                   \r"
          ]
        },
        {
          "name": "stdout",
          "output_type": "stream",
          "text": [
            "Processing EPD_201604...\n"
          ]
        },
        {
          "name": "stderr",
          "output_type": "stream",
          "text": [
            "                                   \r"
          ]
        },
        {
          "name": "stdout",
          "output_type": "stream",
          "text": [
            "Processing EPD_201605...\n"
          ]
        },
        {
          "name": "stderr",
          "output_type": "stream",
          "text": [
            "                                   \r"
          ]
        },
        {
          "name": "stdout",
          "output_type": "stream",
          "text": [
            "Processing EPD_201606...\n"
          ]
        },
        {
          "name": "stderr",
          "output_type": "stream",
          "text": [
            "                                   \r"
          ]
        },
        {
          "name": "stdout",
          "output_type": "stream",
          "text": [
            "Processing EPD_201607...\n"
          ]
        },
        {
          "name": "stderr",
          "output_type": "stream",
          "text": [
            "                                   \r"
          ]
        },
        {
          "name": "stdout",
          "output_type": "stream",
          "text": [
            "Processing EPD_201608...\n"
          ]
        },
        {
          "name": "stderr",
          "output_type": "stream",
          "text": [
            "                                   \r"
          ]
        },
        {
          "name": "stdout",
          "output_type": "stream",
          "text": [
            "Processing EPD_201609...\n"
          ]
        },
        {
          "name": "stderr",
          "output_type": "stream",
          "text": [
            "                                   \r"
          ]
        },
        {
          "name": "stdout",
          "output_type": "stream",
          "text": [
            "Processing EPD_201610...\n"
          ]
        },
        {
          "name": "stderr",
          "output_type": "stream",
          "text": [
            "                                   \r"
          ]
        },
        {
          "name": "stdout",
          "output_type": "stream",
          "text": [
            "Processing EPD_201611...\n"
          ]
        },
        {
          "name": "stderr",
          "output_type": "stream",
          "text": [
            "                                   \r"
          ]
        },
        {
          "name": "stdout",
          "output_type": "stream",
          "text": [
            "Processing EPD_201612...\n"
          ]
        },
        {
          "name": "stderr",
          "output_type": "stream",
          "text": [
            "                                   \r"
          ]
        },
        {
          "name": "stdout",
          "output_type": "stream",
          "text": [
            "Processing EPD_201701...\n"
          ]
        },
        {
          "name": "stderr",
          "output_type": "stream",
          "text": [
            "                                   \r"
          ]
        },
        {
          "name": "stdout",
          "output_type": "stream",
          "text": [
            "Processing EPD_201702...\n"
          ]
        },
        {
          "name": "stderr",
          "output_type": "stream",
          "text": [
            "                                   \r"
          ]
        },
        {
          "name": "stdout",
          "output_type": "stream",
          "text": [
            "Processing EPD_201703...\n"
          ]
        },
        {
          "name": "stderr",
          "output_type": "stream",
          "text": [
            "                                   \r"
          ]
        },
        {
          "name": "stdout",
          "output_type": "stream",
          "text": [
            "Processing EPD_201704...\n"
          ]
        },
        {
          "name": "stderr",
          "output_type": "stream",
          "text": [
            "                                   \r"
          ]
        },
        {
          "name": "stdout",
          "output_type": "stream",
          "text": [
            "Processing EPD_201705...\n"
          ]
        },
        {
          "name": "stderr",
          "output_type": "stream",
          "text": [
            "                                   \r"
          ]
        },
        {
          "name": "stdout",
          "output_type": "stream",
          "text": [
            "Processing EPD_201706...\n"
          ]
        },
        {
          "name": "stderr",
          "output_type": "stream",
          "text": [
            "                                   \r"
          ]
        },
        {
          "name": "stdout",
          "output_type": "stream",
          "text": [
            "Processing EPD_201707...\n"
          ]
        },
        {
          "name": "stderr",
          "output_type": "stream",
          "text": [
            "                                   \r"
          ]
        },
        {
          "name": "stdout",
          "output_type": "stream",
          "text": [
            "Processing EPD_201708...\n"
          ]
        },
        {
          "name": "stderr",
          "output_type": "stream",
          "text": [
            "                                   \r"
          ]
        },
        {
          "name": "stdout",
          "output_type": "stream",
          "text": [
            "Processing EPD_201709...\n"
          ]
        },
        {
          "name": "stderr",
          "output_type": "stream",
          "text": [
            "                                   \r"
          ]
        },
        {
          "name": "stdout",
          "output_type": "stream",
          "text": [
            "Processing EPD_201710...\n"
          ]
        },
        {
          "name": "stderr",
          "output_type": "stream",
          "text": [
            "                                   \r"
          ]
        },
        {
          "name": "stdout",
          "output_type": "stream",
          "text": [
            "Processing EPD_201711...\n"
          ]
        },
        {
          "name": "stderr",
          "output_type": "stream",
          "text": [
            "                                   \r"
          ]
        },
        {
          "name": "stdout",
          "output_type": "stream",
          "text": [
            "Processing EPD_201712...\n"
          ]
        },
        {
          "name": "stderr",
          "output_type": "stream",
          "text": [
            "                                   \r"
          ]
        },
        {
          "name": "stdout",
          "output_type": "stream",
          "text": [
            "Processing EPD_201801...\n"
          ]
        },
        {
          "name": "stderr",
          "output_type": "stream",
          "text": [
            "                                   \r"
          ]
        },
        {
          "name": "stdout",
          "output_type": "stream",
          "text": [
            "Processing EPD_201802...\n"
          ]
        },
        {
          "name": "stderr",
          "output_type": "stream",
          "text": [
            "                                   \r"
          ]
        },
        {
          "name": "stdout",
          "output_type": "stream",
          "text": [
            "Processing EPD_201803...\n"
          ]
        },
        {
          "name": "stderr",
          "output_type": "stream",
          "text": [
            "                                   \r"
          ]
        },
        {
          "name": "stdout",
          "output_type": "stream",
          "text": [
            "Processing EPD_201804...\n"
          ]
        },
        {
          "name": "stderr",
          "output_type": "stream",
          "text": [
            "                                   \r"
          ]
        },
        {
          "name": "stdout",
          "output_type": "stream",
          "text": [
            "Processing EPD_201805...\n"
          ]
        },
        {
          "name": "stderr",
          "output_type": "stream",
          "text": [
            "                                   \r"
          ]
        },
        {
          "name": "stdout",
          "output_type": "stream",
          "text": [
            "Processing EPD_201806...\n"
          ]
        },
        {
          "name": "stderr",
          "output_type": "stream",
          "text": [
            "                                   \r"
          ]
        },
        {
          "name": "stdout",
          "output_type": "stream",
          "text": [
            "Processing EPD_201807...\n"
          ]
        },
        {
          "name": "stderr",
          "output_type": "stream",
          "text": [
            "                                   \r"
          ]
        },
        {
          "name": "stdout",
          "output_type": "stream",
          "text": [
            "Processing EPD_201808...\n"
          ]
        },
        {
          "name": "stderr",
          "output_type": "stream",
          "text": [
            "                                   \r"
          ]
        },
        {
          "name": "stdout",
          "output_type": "stream",
          "text": [
            "Processing EPD_201809...\n"
          ]
        },
        {
          "name": "stderr",
          "output_type": "stream",
          "text": [
            "                                   \r"
          ]
        },
        {
          "name": "stdout",
          "output_type": "stream",
          "text": [
            "Processing EPD_201810...\n"
          ]
        },
        {
          "name": "stderr",
          "output_type": "stream",
          "text": [
            "                                   \r"
          ]
        },
        {
          "name": "stdout",
          "output_type": "stream",
          "text": [
            "Processing EPD_201811...\n"
          ]
        },
        {
          "name": "stderr",
          "output_type": "stream",
          "text": [
            "                                   \r"
          ]
        },
        {
          "name": "stdout",
          "output_type": "stream",
          "text": [
            "Processing EPD_201812...\n"
          ]
        },
        {
          "name": "stderr",
          "output_type": "stream",
          "text": [
            "                                   \r"
          ]
        },
        {
          "name": "stdout",
          "output_type": "stream",
          "text": [
            "Processing EPD_201901...\n"
          ]
        },
        {
          "name": "stderr",
          "output_type": "stream",
          "text": [
            "                                   \r"
          ]
        },
        {
          "name": "stdout",
          "output_type": "stream",
          "text": [
            "Processing EPD_201902...\n"
          ]
        },
        {
          "name": "stderr",
          "output_type": "stream",
          "text": [
            "                                   \r"
          ]
        },
        {
          "name": "stdout",
          "output_type": "stream",
          "text": [
            "Processing EPD_201903...\n"
          ]
        },
        {
          "name": "stderr",
          "output_type": "stream",
          "text": [
            "                                   \r"
          ]
        },
        {
          "name": "stdout",
          "output_type": "stream",
          "text": [
            "Processing EPD_201904...\n"
          ]
        },
        {
          "name": "stderr",
          "output_type": "stream",
          "text": [
            "                                   \r"
          ]
        },
        {
          "name": "stdout",
          "output_type": "stream",
          "text": [
            "Processing EPD_201905...\n"
          ]
        },
        {
          "name": "stderr",
          "output_type": "stream",
          "text": [
            "                                   \r"
          ]
        },
        {
          "name": "stdout",
          "output_type": "stream",
          "text": [
            "Processing EPD_201906...\n"
          ]
        },
        {
          "name": "stderr",
          "output_type": "stream",
          "text": [
            "                                   \r"
          ]
        },
        {
          "name": "stdout",
          "output_type": "stream",
          "text": [
            "Processing EPD_201907...\n"
          ]
        },
        {
          "name": "stderr",
          "output_type": "stream",
          "text": [
            "                                   \r"
          ]
        },
        {
          "name": "stdout",
          "output_type": "stream",
          "text": [
            "Processing EPD_201908...\n"
          ]
        },
        {
          "name": "stderr",
          "output_type": "stream",
          "text": [
            "                                   \r"
          ]
        },
        {
          "name": "stdout",
          "output_type": "stream",
          "text": [
            "Processing EPD_201909...\n"
          ]
        },
        {
          "name": "stderr",
          "output_type": "stream",
          "text": [
            "                                   \r"
          ]
        },
        {
          "name": "stdout",
          "output_type": "stream",
          "text": [
            "Processing EPD_201910...\n"
          ]
        },
        {
          "name": "stderr",
          "output_type": "stream",
          "text": [
            "                                   \r"
          ]
        },
        {
          "name": "stdout",
          "output_type": "stream",
          "text": [
            "Processing EPD_201911...\n"
          ]
        },
        {
          "name": "stderr",
          "output_type": "stream",
          "text": [
            "                                   \r"
          ]
        },
        {
          "name": "stdout",
          "output_type": "stream",
          "text": [
            "Processing EPD_201912...\n"
          ]
        },
        {
          "name": "stderr",
          "output_type": "stream",
          "text": [
            "                                   \r"
          ]
        },
        {
          "name": "stdout",
          "output_type": "stream",
          "text": [
            "Processing EPD_202001...\n"
          ]
        },
        {
          "name": "stderr",
          "output_type": "stream",
          "text": [
            "                                   \r"
          ]
        },
        {
          "name": "stdout",
          "output_type": "stream",
          "text": [
            "Processing EPD_202002...\n"
          ]
        },
        {
          "name": "stderr",
          "output_type": "stream",
          "text": [
            "                                   \r"
          ]
        },
        {
          "name": "stdout",
          "output_type": "stream",
          "text": [
            "Processing EPD_202003...\n"
          ]
        },
        {
          "name": "stderr",
          "output_type": "stream",
          "text": [
            "                                   \r"
          ]
        },
        {
          "name": "stdout",
          "output_type": "stream",
          "text": [
            "Processing EPD_202004...\n"
          ]
        },
        {
          "name": "stderr",
          "output_type": "stream",
          "text": [
            "                                   \r"
          ]
        },
        {
          "name": "stdout",
          "output_type": "stream",
          "text": [
            "Processing EPD_202005...\n"
          ]
        },
        {
          "name": "stderr",
          "output_type": "stream",
          "text": [
            "                                   \r"
          ]
        },
        {
          "name": "stdout",
          "output_type": "stream",
          "text": [
            "Processing EPD_202006...\n"
          ]
        },
        {
          "name": "stderr",
          "output_type": "stream",
          "text": [
            "                                   \r"
          ]
        },
        {
          "name": "stdout",
          "output_type": "stream",
          "text": [
            "Processing EPD_202007...\n"
          ]
        },
        {
          "name": "stderr",
          "output_type": "stream",
          "text": [
            "                                   \r"
          ]
        },
        {
          "name": "stdout",
          "output_type": "stream",
          "text": [
            "Processing EPD_202008...\n"
          ]
        },
        {
          "name": "stderr",
          "output_type": "stream",
          "text": [
            "                                   \r"
          ]
        },
        {
          "name": "stdout",
          "output_type": "stream",
          "text": [
            "Processing EPD_202009...\n"
          ]
        },
        {
          "name": "stderr",
          "output_type": "stream",
          "text": [
            "                                   \r"
          ]
        },
        {
          "name": "stdout",
          "output_type": "stream",
          "text": [
            "Processing EPD_202010...\n"
          ]
        },
        {
          "name": "stderr",
          "output_type": "stream",
          "text": [
            "                                   \r"
          ]
        },
        {
          "name": "stdout",
          "output_type": "stream",
          "text": [
            "Processing EPD_202011...\n"
          ]
        },
        {
          "name": "stderr",
          "output_type": "stream",
          "text": [
            "                                   \r"
          ]
        },
        {
          "name": "stdout",
          "output_type": "stream",
          "text": [
            "Processing EPD_202012...\n"
          ]
        },
        {
          "name": "stderr",
          "output_type": "stream",
          "text": [
            "                                   \r"
          ]
        },
        {
          "name": "stdout",
          "output_type": "stream",
          "text": [
            "Processing EPD_202101...\n"
          ]
        },
        {
          "name": "stderr",
          "output_type": "stream",
          "text": [
            "                                   \r"
          ]
        },
        {
          "name": "stdout",
          "output_type": "stream",
          "text": [
            "Processing EPD_202102...\n"
          ]
        },
        {
          "name": "stderr",
          "output_type": "stream",
          "text": [
            "                                   \r"
          ]
        },
        {
          "name": "stdout",
          "output_type": "stream",
          "text": [
            "Processing EPD_202103...\n"
          ]
        },
        {
          "name": "stderr",
          "output_type": "stream",
          "text": [
            "                                   \r"
          ]
        },
        {
          "name": "stdout",
          "output_type": "stream",
          "text": [
            "Processing EPD_202104...\n"
          ]
        },
        {
          "name": "stderr",
          "output_type": "stream",
          "text": [
            "                                   \r"
          ]
        },
        {
          "name": "stdout",
          "output_type": "stream",
          "text": [
            "Processing EPD_202105...\n"
          ]
        },
        {
          "name": "stderr",
          "output_type": "stream",
          "text": [
            "                                   \r"
          ]
        },
        {
          "name": "stdout",
          "output_type": "stream",
          "text": [
            "Processing EPD_202106...\n"
          ]
        },
        {
          "name": "stderr",
          "output_type": "stream",
          "text": [
            "                                   \r"
          ]
        },
        {
          "name": "stdout",
          "output_type": "stream",
          "text": [
            "Processing EPD_202107...\n"
          ]
        },
        {
          "name": "stderr",
          "output_type": "stream",
          "text": [
            "                                   \r"
          ]
        },
        {
          "name": "stdout",
          "output_type": "stream",
          "text": [
            "Processing EPD_202108...\n"
          ]
        },
        {
          "name": "stderr",
          "output_type": "stream",
          "text": [
            "                                   \r"
          ]
        },
        {
          "name": "stdout",
          "output_type": "stream",
          "text": [
            "Processing EPD_202109...\n"
          ]
        },
        {
          "name": "stderr",
          "output_type": "stream",
          "text": [
            "                                   \r"
          ]
        },
        {
          "name": "stdout",
          "output_type": "stream",
          "text": [
            "Processing EPD_202110...\n"
          ]
        },
        {
          "name": "stderr",
          "output_type": "stream",
          "text": [
            "                                   \r"
          ]
        },
        {
          "name": "stdout",
          "output_type": "stream",
          "text": [
            "Processing EPD_202111...\n"
          ]
        },
        {
          "name": "stderr",
          "output_type": "stream",
          "text": [
            "                                   \r"
          ]
        },
        {
          "name": "stdout",
          "output_type": "stream",
          "text": [
            "Processing EPD_202112...\n"
          ]
        },
        {
          "name": "stderr",
          "output_type": "stream",
          "text": [
            "                                   \r"
          ]
        },
        {
          "name": "stdout",
          "output_type": "stream",
          "text": [
            "Processing EPD_202201...\n"
          ]
        },
        {
          "name": "stderr",
          "output_type": "stream",
          "text": [
            "                                   \r"
          ]
        },
        {
          "name": "stdout",
          "output_type": "stream",
          "text": [
            "Processing EPD_202202...\n"
          ]
        },
        {
          "name": "stderr",
          "output_type": "stream",
          "text": [
            "                                   \r"
          ]
        },
        {
          "name": "stdout",
          "output_type": "stream",
          "text": [
            "Processing EPD_202203...\n"
          ]
        },
        {
          "name": "stderr",
          "output_type": "stream",
          "text": [
            "                                   \r"
          ]
        },
        {
          "name": "stdout",
          "output_type": "stream",
          "text": [
            "Processing EPD_202204...\n"
          ]
        },
        {
          "name": "stderr",
          "output_type": "stream",
          "text": [
            "                                   \r"
          ]
        },
        {
          "name": "stdout",
          "output_type": "stream",
          "text": [
            "Processing EPD_202205...\n"
          ]
        },
        {
          "name": "stderr",
          "output_type": "stream",
          "text": [
            "                                   \r"
          ]
        },
        {
          "name": "stdout",
          "output_type": "stream",
          "text": [
            "Processing EPD_202206...\n"
          ]
        },
        {
          "name": "stderr",
          "output_type": "stream",
          "text": [
            "                                   \r"
          ]
        },
        {
          "name": "stdout",
          "output_type": "stream",
          "text": [
            "Processing EPD_202207...\n"
          ]
        },
        {
          "name": "stderr",
          "output_type": "stream",
          "text": [
            "                                   \r"
          ]
        },
        {
          "name": "stdout",
          "output_type": "stream",
          "text": [
            "Processing EPD_202208...\n"
          ]
        },
        {
          "name": "stderr",
          "output_type": "stream",
          "text": [
            "                                   \r"
          ]
        },
        {
          "name": "stdout",
          "output_type": "stream",
          "text": [
            "Processing EPD_202209...\n"
          ]
        },
        {
          "name": "stderr",
          "output_type": "stream",
          "text": [
            "                                   \r"
          ]
        },
        {
          "name": "stdout",
          "output_type": "stream",
          "text": [
            "Processing EPD_202210...\n"
          ]
        },
        {
          "name": "stderr",
          "output_type": "stream",
          "text": [
            "                                   \r"
          ]
        },
        {
          "name": "stdout",
          "output_type": "stream",
          "text": [
            "Processing EPD_202211...\n"
          ]
        },
        {
          "name": "stderr",
          "output_type": "stream",
          "text": [
            "                                   \r"
          ]
        },
        {
          "name": "stdout",
          "output_type": "stream",
          "text": [
            "Processing EPD_202212...\n"
          ]
        },
        {
          "name": "stderr",
          "output_type": "stream",
          "text": [
            "                                   \r"
          ]
        },
        {
          "name": "stdout",
          "output_type": "stream",
          "text": [
            "Processing EPD_202301...\n"
          ]
        },
        {
          "name": "stderr",
          "output_type": "stream",
          "text": [
            "                                   \r"
          ]
        },
        {
          "name": "stdout",
          "output_type": "stream",
          "text": [
            "Processing EPD_202302...\n"
          ]
        },
        {
          "name": "stderr",
          "output_type": "stream",
          "text": [
            "                                   \r"
          ]
        },
        {
          "name": "stdout",
          "output_type": "stream",
          "text": [
            "Processing EPD_202303...\n"
          ]
        },
        {
          "name": "stderr",
          "output_type": "stream",
          "text": [
            "                                   \r"
          ]
        },
        {
          "name": "stdout",
          "output_type": "stream",
          "text": [
            "Processing EPD_202304...\n"
          ]
        },
        {
          "name": "stderr",
          "output_type": "stream",
          "text": [
            "                                   \r"
          ]
        },
        {
          "name": "stdout",
          "output_type": "stream",
          "text": [
            "Processing EPD_202305...\n"
          ]
        },
        {
          "name": "stderr",
          "output_type": "stream",
          "text": [
            "                                   \r"
          ]
        },
        {
          "name": "stdout",
          "output_type": "stream",
          "text": [
            "Processing EPD_202306...\n"
          ]
        },
        {
          "name": "stderr",
          "output_type": "stream",
          "text": [
            "                                   \r"
          ]
        },
        {
          "name": "stdout",
          "output_type": "stream",
          "text": [
            "Processing EPD_202307...\n"
          ]
        },
        {
          "name": "stderr",
          "output_type": "stream",
          "text": [
            "                                   \r"
          ]
        },
        {
          "name": "stdout",
          "output_type": "stream",
          "text": [
            "Processing EPD_202308...\n"
          ]
        },
        {
          "name": "stderr",
          "output_type": "stream",
          "text": [
            "                                   \r"
          ]
        },
        {
          "name": "stdout",
          "output_type": "stream",
          "text": [
            "Processing EPD_202309...\n"
          ]
        },
        {
          "name": "stderr",
          "output_type": "stream",
          "text": [
            "                                   \r"
          ]
        },
        {
          "name": "stdout",
          "output_type": "stream",
          "text": [
            "Processing EPD_202310...\n"
          ]
        },
        {
          "name": "stderr",
          "output_type": "stream",
          "text": [
            "                                   \r"
          ]
        },
        {
          "name": "stdout",
          "output_type": "stream",
          "text": [
            "Processing EPD_202311...\n"
          ]
        },
        {
          "name": "stderr",
          "output_type": "stream",
          "text": [
            "                                   \r"
          ]
        },
        {
          "name": "stdout",
          "output_type": "stream",
          "text": [
            "Processing EPD_202312...\n"
          ]
        },
        {
          "name": "stderr",
          "output_type": "stream",
          "text": [
            "                                   \r"
          ]
        },
        {
          "name": "stdout",
          "output_type": "stream",
          "text": [
            "Processing EPD_202401...\n"
          ]
        },
        {
          "name": "stderr",
          "output_type": "stream",
          "text": [
            "                                   \r"
          ]
        },
        {
          "name": "stdout",
          "output_type": "stream",
          "text": [
            "Processing EPD_202402...\n"
          ]
        },
        {
          "name": "stderr",
          "output_type": "stream",
          "text": [
            "                                   \r"
          ]
        },
        {
          "name": "stdout",
          "output_type": "stream",
          "text": [
            "Processing EPD_202403...\n"
          ]
        },
        {
          "name": "stderr",
          "output_type": "stream",
          "text": [
            "                                   \r"
          ]
        },
        {
          "name": "stdout",
          "output_type": "stream",
          "text": [
            "Processing EPD_202404...\n"
          ]
        },
        {
          "name": "stderr",
          "output_type": "stream",
          "text": [
            "                                   \r"
          ]
        },
        {
          "name": "stdout",
          "output_type": "stream",
          "text": [
            "Processing EPD_202405...\n"
          ]
        },
        {
          "name": "stderr",
          "output_type": "stream",
          "text": [
            "                                   \r"
          ]
        },
        {
          "name": "stdout",
          "output_type": "stream",
          "text": [
            "Processing EPD_202406...\n"
          ]
        },
        {
          "name": "stderr",
          "output_type": "stream",
          "text": [
            "                                   \r"
          ]
        },
        {
          "name": "stdout",
          "output_type": "stream",
          "text": [
            "Processing EPD_202407...\n"
          ]
        },
        {
          "name": "stderr",
          "output_type": "stream",
          "text": [
            "                                   \r"
          ]
        },
        {
          "name": "stdout",
          "output_type": "stream",
          "text": [
            "Processing EPD_202408...\n"
          ]
        },
        {
          "name": "stderr",
          "output_type": "stream",
          "text": [
            "                                   \r"
          ]
        },
        {
          "name": "stdout",
          "output_type": "stream",
          "text": [
            "Processing EPD_202409...\n"
          ]
        },
        {
          "name": "stderr",
          "output_type": "stream",
          "text": [
            "                                   \r"
          ]
        },
        {
          "name": "stdout",
          "output_type": "stream",
          "text": [
            "Processing EPD_202410...\n"
          ]
        },
        {
          "name": "stderr",
          "output_type": "stream",
          "text": [
            "                                   \r"
          ]
        },
        {
          "name": "stdout",
          "output_type": "stream",
          "text": [
            "Processing EPD_202411...\n"
          ]
        },
        {
          "name": "stderr",
          "output_type": "stream",
          "text": [
            "                                   \r"
          ]
        },
        {
          "name": "stdout",
          "output_type": "stream",
          "text": [
            "Processing EPD_202412...\n"
          ]
        },
        {
          "name": "stderr",
          "output_type": "stream",
          "text": [
            "                                   \r"
          ]
        },
        {
          "name": "stdout",
          "output_type": "stream",
          "text": [
            "Processing EPD_202501...\n"
          ]
        },
        {
          "name": "stderr",
          "output_type": "stream",
          "text": [
            "                                   \r"
          ]
        },
        {
          "name": "stdout",
          "output_type": "stream",
          "text": [
            "Processing EPD_202502...\n"
          ]
        },
        {
          "name": "stderr",
          "output_type": "stream",
          "text": [
            "                                   \r"
          ]
        },
        {
          "name": "stdout",
          "output_type": "stream",
          "text": [
            "Processing EPD_202503...\n"
          ]
        },
        {
          "name": "stderr",
          "output_type": "stream",
          "text": [
            "                                   \r"
          ]
        },
        {
          "name": "stdout",
          "output_type": "stream",
          "text": [
            "Processing EPD_202504...\n"
          ]
        },
        {
          "name": "stderr",
          "output_type": "stream",
          "text": [
            "                                   \r"
          ]
        },
        {
          "name": "stdout",
          "output_type": "stream",
          "text": [
            "Processing EPD_202505...\n"
          ]
        },
        {
          "name": "stderr",
          "output_type": "stream",
          "text": [
            "EPD_202505: 0it [00:00, ?it/s]"
          ]
        },
        {
          "name": "stdout",
          "output_type": "stream",
          "text": [
            "Failed to fetch EPD_202505: HTTP Error 404: NOT FOUND\n",
            "Processing EPD_202506...\n"
          ]
        },
        {
          "name": "stderr",
          "output_type": "stream",
          "text": [
            "                              \u001b[A"
          ]
        },
        {
          "name": "stdout",
          "output_type": "stream",
          "text": [
            "Failed to fetch EPD_202506: HTTP Error 404: NOT FOUND\n",
            "Processing EPD_202507...\n"
          ]
        },
        {
          "name": "stderr",
          "output_type": "stream",
          "text": [
            "EPD_202507: 0it [00:00, ?it/s]"
          ]
        },
        {
          "name": "stdout",
          "output_type": "stream",
          "text": [
            "Failed to fetch EPD_202507: HTTP Error 404: NOT FOUND\n",
            "Processing EPD_202508...\n"
          ]
        },
        {
          "name": "stderr",
          "output_type": "stream",
          "text": [
            "                              \u001b[A"
          ]
        },
        {
          "name": "stdout",
          "output_type": "stream",
          "text": [
            "Failed to fetch EPD_202508: HTTP Error 404: NOT FOUND\n",
            "Processing EPD_202509...\n"
          ]
        },
        {
          "name": "stderr",
          "output_type": "stream",
          "text": [
            "EPD_202509: 0it [00:00, ?it/s]"
          ]
        },
        {
          "name": "stdout",
          "output_type": "stream",
          "text": [
            "Failed to fetch EPD_202509: HTTP Error 404: NOT FOUND\n",
            "Processing EPD_202510...\n"
          ]
        },
        {
          "name": "stderr",
          "output_type": "stream",
          "text": [
            "                              \u001b[A"
          ]
        },
        {
          "name": "stdout",
          "output_type": "stream",
          "text": [
            "Failed to fetch EPD_202510: HTTP Error 404: NOT FOUND\n",
            "Processing EPD_202511...\n"
          ]
        },
        {
          "name": "stderr",
          "output_type": "stream",
          "text": [
            "EPD_202511: 0it [00:00, ?it/s]"
          ]
        },
        {
          "name": "stdout",
          "output_type": "stream",
          "text": [
            "Failed to fetch EPD_202511: HTTP Error 404: NOT FOUND\n",
            "Processing EPD_202512...\n"
          ]
        },
        {
          "name": "stderr",
          "output_type": "stream",
          "text": [
            "                              \u001b[A"
          ]
        },
        {
          "name": "stdout",
          "output_type": "stream",
          "text": [
            "Failed to fetch EPD_202512: HTTP Error 404: NOT FOUND\n",
            "Processing complete.\n"
          ]
        }
      ],
      "source": [
        "import urllib.request\n",
        "import json\n",
        "import pandas as pd\n",
        "from tqdm import tqdm\n",
        "from datetime import datetime\n",
        "from urllib.error import HTTPError, URLError\n",
        "import os\n",
        "\n",
        "# Parameters\n",
        "years = list(range(2015, 2026))\n",
        "months = [f'{m:02d}' for m in range(1, 13)]\n",
        "batch_size = 1000000\n",
        "maxi = 20000\n",
        "output_dir = \"monthly_aggregates\"\n",
        "\n",
        "os.makedirs(output_dir, exist_ok=True)\n",
        "\n",
        "for year in years:\n",
        "    for month in months:\n",
        "        resource_id = f'EPD_{year}{month}'\n",
        "        print(f\"Processing {resource_id}...\")\n",
        "\n",
        "        records = []\n",
        "        offset = 0\n",
        "        pbar = tqdm(desc=f\"{resource_id}\", leave=False)\n",
        "\n",
        "        try:\n",
        "            # Delete the file if it exists before processing\n",
        "            output_file = os.path.join(output_dir, f\"{resource_id}.parquet\")\n",
        "            if os.path.exists(output_file):\n",
        "                os.remove(output_file)\n",
        "\n",
        "            index = 0\n",
        "            while True:\n",
        "                index += 1\n",
        "                url = f'https://opendata.nhsbsa.net/api/3/action/datastore_search?resource_id={resource_id}&limit={batch_size}&offset={offset}'\n",
        "\n",
        "                with urllib.request.urlopen(url) as response:\n",
        "                    content = response.read()\n",
        "\n",
        "                data = json.loads(content.decode(\"utf-8\"))\n",
        "\n",
        "                if \"result\" not in data or \"records\" not in data[\"result\"]:\n",
        "                    print(f\"No result found in API response for {resource_id}\")\n",
        "                    break\n",
        "\n",
        "                batch_records = data[\"result\"][\"records\"]\n",
        "                if not batch_records:\n",
        "                    break  # No more data\n",
        "\n",
        "                # Instead of appending to list, process this batch immediately\n",
        "                df_batch = pd.DataFrame(batch_records)\n",
        "\n",
        "                # Ensure numeric conversion\n",
        "                if 'ACTUAL_COST' in df_batch.columns:\n",
        "                    df_batch['ACTUAL_COST'] = pd.to_numeric(df_batch['ACTUAL_COST'], errors='coerce')\n",
        "                else:\n",
        "                    print(f\"'ACTUAL_COST' column missing in batch for {resource_id}, skipping batch\")\n",
        "                    continue\n",
        "\n",
        "                group_fields = ['REGIONAL_OFFICE_NAME', 'PCO_NAME', 'BNF_CHAPTER_PLUS_CODE']\n",
        "                if not all(col in df_batch.columns for col in group_fields):\n",
        "                    print(f\"Missing required columns in batch for {resource_id}, skipping batch\")\n",
        "                    continue\n",
        "\n",
        "                grouped_batch = df_batch.groupby(group_fields).agg(\n",
        "                    TOTAL_COST=('ACTUAL_COST', 'sum')\n",
        "                ).reset_index()\n",
        "\n",
        "                # Add YEAR, MONTH, YEAR_MONTH columns\n",
        "                grouped_batch['YEAR'] = int(year)\n",
        "                grouped_batch['MONTH'] = int(month)\n",
        "                grouped_batch['YEAR_MONTH'] = f'{year}-{month}'\n",
        "\n",
        "                # Save or append grouped_batch to disk immediately\n",
        "                if os.path.exists(output_file):\n",
        "                    # Append to existing file efficiently\n",
        "                    existing_df = pd.read_parquet(output_file)\n",
        "                    combined_df = pd.concat([existing_df, grouped_batch], ignore_index=True)\n",
        "                    # Optional: aggregate duplicates if needed here to save space\n",
        "                    combined_df = combined_df.groupby(group_fields + ['YEAR', 'MONTH', 'YEAR_MONTH'], as_index=False).agg(\n",
        "                        TOTAL_COST=('TOTAL_COST', 'sum')\n",
        "                    )\n",
        "                    combined_df.to_parquet(output_file, index=False)\n",
        "                else:\n",
        "                    grouped_batch.to_parquet(output_file, index=False)\n",
        "\n",
        "                offset += batch_size\n",
        "                pbar.update(1)\n",
        "\n",
        "                if index > maxi:\n",
        "                    break\n",
        "\n",
        "            pbar.close()\n",
        "\n",
        "        except (HTTPError, URLError) as e:\n",
        "            print(f\"Failed to fetch {resource_id}: {e}\")\n",
        "        except json.JSONDecodeError as e:\n",
        "            print(f\"Invalid JSON for {resource_id}: {e}\")\n",
        "        except Exception as e:\n",
        "            print(f\"Unexpected error for {resource_id}: {e}\")\n",
        "\n",
        "print(\"Processing complete.\")\n"
      ]
    },
    {
      "cell_type": "code",
      "execution_count": 13,
      "metadata": {
        "colab": {
          "base_uri": "https://localhost:8080/"
        },
        "id": "tVm37_V0JZjI",
        "outputId": "bdbdea84-20a9-4c89-d16e-50b4b4badf4e"
      },
      "outputs": [
        {
          "name": "stdout",
          "output_type": "stream",
          "text": [
            "Aggregated data saved to monthly_aggregates\\aggregated_data.parquet\n"
          ]
        }
      ],
      "source": [
        "# Read all of the parquet files and concatenate them\n",
        "import os\n",
        "import pandas as pd\n",
        "\n",
        "# Directory containing parquet files\n",
        "data_dir = \"monthly_aggregates\"\n",
        "\n",
        "# List all parquet files in the directory\n",
        "parquet_files = [os.path.join(data_dir, f) for f in os.listdir(data_dir) if f.endswith('.parquet')]\n",
        "\n",
        "# Aggregate data from all files\n",
        "dataframes = []\n",
        "for file in parquet_files:\n",
        "    df = pd.read_parquet(file)\n",
        "    dataframes.append(df)\n",
        "\n",
        "# Concatenate all dataframes into a single dataframe\n",
        "aggregated_data = pd.concat(dataframes, ignore_index=True)\n",
        "\n",
        "# Save the aggregated data to a new parquet file\n",
        "output_file = os.path.join(data_dir, \"aggregated_data.parquet\")\n",
        "aggregated_data.to_parquet(output_file, index=False)\n",
        "\n",
        "print(f\"Aggregated data saved to {output_file}\")"
      ]
    },
    {
      "cell_type": "code",
      "execution_count": null,
      "metadata": {},
      "outputs": [
        {
          "data": {
            "image/png": "[encoded data removed]",
            "text/plain": [
              "<Figure size 1200x600 with 1 Axes>"
            ]
          },
          "metadata": {},
          "output_type": "display_data"
        }
      ],
      "source": [
        "aggregated_data\n",
        "filtered_data = aggregated_data[aggregated_data['BNF_CHAPTER_PLUS_CODE'] == '01: Gastro-Intestinal System']\n",
        "\n",
        "# Group data by year and month\n",
        "plot_data = filtered_data.groupby(['YEAR', 'MONTH']).agg({'TOTAL_COST': 'sum'}).reset_index()\n",
        "\n",
        "# Plot the data\n",
        "import matplotlib.pyplot as plt\n",
        "import seaborn as sns\n",
        "\n",
        "plt.figure(figsize=(12, 6))\n",
        "sns.lineplot(data=plot_data, x='MONTH', y='TOTAL_COST', hue='YEAR', marker='o')\n",
        "plt.title('Monthly Total Cost for Gastro-Intestinal System by Year')\n",
        "plt.xlabel('Month')\n",
        "plt.ylabel('Total Cost')\n",
        "plt.legend(title='Year')\n",
        "plt.grid(True)\n",
        "plt.show()"
      ]
    },
    {
      "cell_type": "code",
      "execution_count": 8,
      "metadata": {},
      "outputs": [
        {
          "data": {
            "text/html": [
              "<div>\n",
              "<style scoped>\n",
              "    .dataframe tbody tr th:only-of-type {\n",
              "        vertical-align: middle;\n",
              "    }\n",
              "\n",
              "    .dataframe tbody tr th {\n",
              "        vertical-align: top;\n",
              "    }\n",
              "\n",
              "    .dataframe thead th {\n",
              "        text-align: right;\n",
              "    }\n",
              "</style>\n",
              "<table border=\"1\" class=\"dataframe\">\n",
              "  <thead>\n",
              "    <tr style=\"text-align: right;\">\n",
              "      <th></th>\n",
              "      <th>REGIONAL_OFFICE_NAME</th>\n",
              "      <th>PCO_NAME</th>\n",
              "      <th>BNF_CHAPTER_PLUS_CODE</th>\n",
              "      <th>YEAR</th>\n",
              "      <th>MONTH</th>\n",
              "      <th>YEAR_MONTH</th>\n",
              "      <th>TOTAL_COST</th>\n",
              "    </tr>\n",
              "  </thead>\n",
              "  <tbody>\n",
              "    <tr>\n",
              "      <th>0</th>\n",
              "      <td>LONDON</td>\n",
              "      <td>BARKING &amp; DAGENHAM CCG</td>\n",
              "      <td>01: Gastro-Intestinal System</td>\n",
              "      <td>2020</td>\n",
              "      <td>1</td>\n",
              "      <td>2020-01</td>\n",
              "      <td>28985.55545</td>\n",
              "    </tr>\n",
              "    <tr>\n",
              "      <th>20</th>\n",
              "      <td>LONDON</td>\n",
              "      <td>BARNET CCG</td>\n",
              "      <td>01: Gastro-Intestinal System</td>\n",
              "      <td>2020</td>\n",
              "      <td>1</td>\n",
              "      <td>2020-01</td>\n",
              "      <td>94130.08304</td>\n",
              "    </tr>\n",
              "    <tr>\n",
              "      <th>40</th>\n",
              "      <td>LONDON</td>\n",
              "      <td>BEXLEY CCG</td>\n",
              "      <td>01: Gastro-Intestinal System</td>\n",
              "      <td>2020</td>\n",
              "      <td>1</td>\n",
              "      <td>2020-01</td>\n",
              "      <td>62807.21355</td>\n",
              "    </tr>\n",
              "    <tr>\n",
              "      <th>60</th>\n",
              "      <td>LONDON</td>\n",
              "      <td>BMI HEALTHCARE</td>\n",
              "      <td>01: Gastro-Intestinal System</td>\n",
              "      <td>2020</td>\n",
              "      <td>1</td>\n",
              "      <td>2020-01</td>\n",
              "      <td>189.56017</td>\n",
              "    </tr>\n",
              "    <tr>\n",
              "      <th>69</th>\n",
              "      <td>LONDON</td>\n",
              "      <td>BRENT CCG</td>\n",
              "      <td>01: Gastro-Intestinal System</td>\n",
              "      <td>2020</td>\n",
              "      <td>1</td>\n",
              "      <td>2020-01</td>\n",
              "      <td>71283.99622</td>\n",
              "    </tr>\n",
              "    <tr>\n",
              "      <th>...</th>\n",
              "      <td>...</td>\n",
              "      <td>...</td>\n",
              "      <td>...</td>\n",
              "      <td>...</td>\n",
              "      <td>...</td>\n",
              "      <td>...</td>\n",
              "      <td>...</td>\n",
              "    </tr>\n",
              "    <tr>\n",
              "      <th>138413</th>\n",
              "      <td>SOUTH WEST</td>\n",
              "      <td>SOMERSET NHS FOUNDATION TRUST</td>\n",
              "      <td>01: Gastro-Intestinal System</td>\n",
              "      <td>2022</td>\n",
              "      <td>12</td>\n",
              "      <td>2022-12</td>\n",
              "      <td>10.51164</td>\n",
              "    </tr>\n",
              "    <tr>\n",
              "      <th>138424</th>\n",
              "      <td>SOUTH WEST</td>\n",
              "      <td>SOUTH WESTERN AMBULANCE SERVICE NHS FOUN</td>\n",
              "      <td>01: Gastro-Intestinal System</td>\n",
              "      <td>2022</td>\n",
              "      <td>12</td>\n",
              "      <td>2022-12</td>\n",
              "      <td>9.75744</td>\n",
              "    </tr>\n",
              "    <tr>\n",
              "      <th>138459</th>\n",
              "      <td>SOUTH WEST</td>\n",
              "      <td>UNIVERSITY HOSPITALS PLYMOUTH NHS TRUST</td>\n",
              "      <td>01: Gastro-Intestinal System</td>\n",
              "      <td>2022</td>\n",
              "      <td>12</td>\n",
              "      <td>2022-12</td>\n",
              "      <td>6.00810</td>\n",
              "    </tr>\n",
              "    <tr>\n",
              "      <th>138473</th>\n",
              "      <td>SOUTH WEST</td>\n",
              "      <td>WILTSHIRE HEALTH &amp; CARE</td>\n",
              "      <td>01: Gastro-Intestinal System</td>\n",
              "      <td>2022</td>\n",
              "      <td>12</td>\n",
              "      <td>2022-12</td>\n",
              "      <td>28.43980</td>\n",
              "    </tr>\n",
              "    <tr>\n",
              "      <th>138481</th>\n",
              "      <td>UNIDENTIFIED</td>\n",
              "      <td>UNIDENTIFIED</td>\n",
              "      <td>01: Gastro-Intestinal System</td>\n",
              "      <td>2022</td>\n",
              "      <td>12</td>\n",
              "      <td>2022-12</td>\n",
              "      <td>2905.94617</td>\n",
              "    </tr>\n",
              "  </tbody>\n",
              "</table>\n",
              "<p>8152 rows × 7 columns</p>\n",
              "</div>"
            ],
            "text/plain": [
              "       REGIONAL_OFFICE_NAME                                  PCO_NAME  \\\n",
              "0                    LONDON                    BARKING & DAGENHAM CCG   \n",
              "20                   LONDON                                BARNET CCG   \n",
              "40                   LONDON                                BEXLEY CCG   \n",
              "60                   LONDON                            BMI HEALTHCARE   \n",
              "69                   LONDON                                 BRENT CCG   \n",
              "...                     ...                                       ...   \n",
              "138413           SOUTH WEST             SOMERSET NHS FOUNDATION TRUST   \n",
              "138424           SOUTH WEST  SOUTH WESTERN AMBULANCE SERVICE NHS FOUN   \n",
              "138459           SOUTH WEST   UNIVERSITY HOSPITALS PLYMOUTH NHS TRUST   \n",
              "138473           SOUTH WEST                   WILTSHIRE HEALTH & CARE   \n",
              "138481         UNIDENTIFIED                              UNIDENTIFIED   \n",
              "\n",
              "               BNF_CHAPTER_PLUS_CODE  YEAR  MONTH YEAR_MONTH   TOTAL_COST  \n",
              "0       01: Gastro-Intestinal System  2020      1    2020-01  28985.55545  \n",
              "20      01: Gastro-Intestinal System  2020      1    2020-01  94130.08304  \n",
              "40      01: Gastro-Intestinal System  2020      1    2020-01  62807.21355  \n",
              "60      01: Gastro-Intestinal System  2020      1    2020-01    189.56017  \n",
              "69      01: Gastro-Intestinal System  2020      1    2020-01  71283.99622  \n",
              "...                              ...   ...    ...        ...          ...  \n",
              "138413  01: Gastro-Intestinal System  2022     12    2022-12     10.51164  \n",
              "138424  01: Gastro-Intestinal System  2022     12    2022-12      9.75744  \n",
              "138459  01: Gastro-Intestinal System  2022     12    2022-12      6.00810  \n",
              "138473  01: Gastro-Intestinal System  2022     12    2022-12     28.43980  \n",
              "138481  01: Gastro-Intestinal System  2022     12    2022-12   2905.94617  \n",
              "\n",
              "[8152 rows x 7 columns]"
            ]
          },
          "execution_count": 8,
          "metadata": {},
          "output_type": "execute_result"
        }
      ],
      "source": [
        "filtered_data"
      ]
    }
  ],
  "metadata": {
    "colab": {
      "provenance": []
    },
    "kernelspec": {
      "display_name": "enginora",
      "language": "python",
      "name": "python3"
    },
    "language_info": {
      "codemirror_mode": {
        "name": "ipython",
        "version": 3
      },
      "file_extension": ".py",
      "mimetype": "text/x-python",
      "name": "python",
      "nbconvert_exporter": "python",
      "pygments_lexer": "ipython3",
      "version": "3.8.18"
    }
  },
  "nbformat": 4,
  "nbformat_minor": 0
}
